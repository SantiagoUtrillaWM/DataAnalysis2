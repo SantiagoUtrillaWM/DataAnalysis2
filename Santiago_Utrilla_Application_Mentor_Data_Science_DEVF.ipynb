{
  "nbformat": 4,
  "nbformat_minor": 0,
  "metadata": {
    "colab": {
      "name": "Mentor Data Science @ DEVF",
      "provenance": [],
      "collapsed_sections": [],
      "authorship_tag": "ABX9TyPguSA4ZVE8P+MNOauZev2j",
      "include_colab_link": true
    },
    "kernelspec": {
      "name": "python3",
      "display_name": "Python 3"
    },
    "language_info": {
      "name": "python"
    }
  },
  "cells": [
    {
      "cell_type": "markdown",
      "metadata": {
        "id": "view-in-github",
        "colab_type": "text"
      },
      "source": [
        "<a href=\"https://colab.research.google.com/github/SantiagoUtrillaWM/DataAnalysis2/blob/main/Santiago_Utrilla_Application_Mentor_Data_Science_DEVF.ipynb\" target=\"_parent\"><img src=\"https://colab.research.google.com/assets/colab-badge.svg\" alt=\"Open In Colab\"/></a>"
      ]
    },
    {
      "cell_type": "markdown",
      "source": [
        "# Mentor Data Science Test"
      ],
      "metadata": {
        "id": "gq70QwjkprC6"
      }
    },
    {
      "cell_type": "markdown",
      "source": [
        "## Libraries needed\n",
        "\n"
      ],
      "metadata": {
        "id": "ADSGmJEyk8IQ"
      }
    },
    {
      "cell_type": "code",
      "source": [
        "import numpy as np\n",
        "import pandas as pd \n",
        "from sklearn.model_selection import train_test_split\n",
        "import matplotlib.pyplot as plt"
      ],
      "metadata": {
        "id": "wXB23dwISQsb"
      },
      "execution_count": 1,
      "outputs": []
    },
    {
      "cell_type": "markdown",
      "source": [
        "## Descriptive Analysis\n",
        "\n"
      ],
      "metadata": {
        "id": "XH-qtaYZlKv-"
      }
    },
    {
      "cell_type": "markdown",
      "source": [
        "### Data Exploration"
      ],
      "metadata": {
        "id": "QlwMQbOHjMWG"
      }
    },
    {
      "cell_type": "code",
      "execution_count": 2,
      "metadata": {
        "colab": {
          "base_uri": "https://localhost:8080/",
          "height": 941
        },
        "id": "bkvOIKWCQjJ_",
        "outputId": "9a4c9d31-f292-4146-8a9b-4fcfc6e09995"
      },
      "outputs": [
        {
          "output_type": "display_data",
          "data": {
            "text/html": [
              "\n",
              "  <div id=\"df-455f21b6-868a-4759-b03a-1b3e5ccd99c4\">\n",
              "    <div class=\"colab-df-container\">\n",
              "      <div>\n",
              "<style scoped>\n",
              "    .dataframe tbody tr th:only-of-type {\n",
              "        vertical-align: middle;\n",
              "    }\n",
              "\n",
              "    .dataframe tbody tr th {\n",
              "        vertical-align: top;\n",
              "    }\n",
              "\n",
              "    .dataframe thead th {\n",
              "        text-align: right;\n",
              "    }\n",
              "</style>\n",
              "<table border=\"1\" class=\"dataframe\">\n",
              "  <thead>\n",
              "    <tr style=\"text-align: right;\">\n",
              "      <th></th>\n",
              "      <th>Unnamed: 0</th>\n",
              "      <th>device_mac</th>\n",
              "      <th>branch_office</th>\n",
              "      <th>month_tz</th>\n",
              "      <th>day_tz</th>\n",
              "      <th>day_of_week_tz</th>\n",
              "      <th>hour_tz</th>\n",
              "      <th>visitor</th>\n",
              "      <th>tiempodeses</th>\n",
              "    </tr>\n",
              "  </thead>\n",
              "  <tbody>\n",
              "    <tr>\n",
              "      <th>0</th>\n",
              "      <td>1</td>\n",
              "      <td>00:00:00:6a:17:ce</td>\n",
              "      <td>1</td>\n",
              "      <td>11</td>\n",
              "      <td>2</td>\n",
              "      <td>Wednesday</td>\n",
              "      <td>0</td>\n",
              "      <td>True</td>\n",
              "      <td>2676</td>\n",
              "    </tr>\n",
              "    <tr>\n",
              "      <th>1</th>\n",
              "      <td>2</td>\n",
              "      <td>00:00:00:6a:17:ce</td>\n",
              "      <td>1</td>\n",
              "      <td>11</td>\n",
              "      <td>2</td>\n",
              "      <td>Wednesday</td>\n",
              "      <td>1</td>\n",
              "      <td>True</td>\n",
              "      <td>2676</td>\n",
              "    </tr>\n",
              "    <tr>\n",
              "      <th>2</th>\n",
              "      <td>3</td>\n",
              "      <td>00:00:00:6a:78:ae</td>\n",
              "      <td>1</td>\n",
              "      <td>10</td>\n",
              "      <td>30</td>\n",
              "      <td>Sunday</td>\n",
              "      <td>20</td>\n",
              "      <td>False</td>\n",
              "      <td>0</td>\n",
              "    </tr>\n",
              "    <tr>\n",
              "      <th>3</th>\n",
              "      <td>4</td>\n",
              "      <td>00:00:02:fa:9c:12</td>\n",
              "      <td>1</td>\n",
              "      <td>11</td>\n",
              "      <td>13</td>\n",
              "      <td>Sunday</td>\n",
              "      <td>12</td>\n",
              "      <td>True</td>\n",
              "      <td>2272</td>\n",
              "    </tr>\n",
              "    <tr>\n",
              "      <th>4</th>\n",
              "      <td>5</td>\n",
              "      <td>00:00:08:7d:e2:58</td>\n",
              "      <td>3</td>\n",
              "      <td>11</td>\n",
              "      <td>4</td>\n",
              "      <td>Friday</td>\n",
              "      <td>19</td>\n",
              "      <td>False</td>\n",
              "      <td>0</td>\n",
              "    </tr>\n",
              "    <tr>\n",
              "      <th>5</th>\n",
              "      <td>6</td>\n",
              "      <td>00:00:31:04:ad:89</td>\n",
              "      <td>3</td>\n",
              "      <td>11</td>\n",
              "      <td>3</td>\n",
              "      <td>Thursday</td>\n",
              "      <td>5</td>\n",
              "      <td>False</td>\n",
              "      <td>0</td>\n",
              "    </tr>\n",
              "    <tr>\n",
              "      <th>6</th>\n",
              "      <td>7</td>\n",
              "      <td>00:00:31:04:bc:da</td>\n",
              "      <td>2</td>\n",
              "      <td>11</td>\n",
              "      <td>4</td>\n",
              "      <td>Friday</td>\n",
              "      <td>19</td>\n",
              "      <td>False</td>\n",
              "      <td>0</td>\n",
              "    </tr>\n",
              "    <tr>\n",
              "      <th>7</th>\n",
              "      <td>8</td>\n",
              "      <td>00:00:77:34:37:30</td>\n",
              "      <td>3</td>\n",
              "      <td>11</td>\n",
              "      <td>5</td>\n",
              "      <td>Saturday</td>\n",
              "      <td>17</td>\n",
              "      <td>False</td>\n",
              "      <td>0</td>\n",
              "    </tr>\n",
              "    <tr>\n",
              "      <th>8</th>\n",
              "      <td>9</td>\n",
              "      <td>00:01:0a:0f:ed:98</td>\n",
              "      <td>1</td>\n",
              "      <td>11</td>\n",
              "      <td>19</td>\n",
              "      <td>Saturday</td>\n",
              "      <td>16</td>\n",
              "      <td>False</td>\n",
              "      <td>0</td>\n",
              "    </tr>\n",
              "    <tr>\n",
              "      <th>9</th>\n",
              "      <td>10</td>\n",
              "      <td>00:02:00:19:05:6f</td>\n",
              "      <td>1</td>\n",
              "      <td>11</td>\n",
              "      <td>8</td>\n",
              "      <td>Tuesday</td>\n",
              "      <td>11</td>\n",
              "      <td>False</td>\n",
              "      <td>0</td>\n",
              "    </tr>\n",
              "  </tbody>\n",
              "</table>\n",
              "</div>\n",
              "      <button class=\"colab-df-convert\" onclick=\"convertToInteractive('df-455f21b6-868a-4759-b03a-1b3e5ccd99c4')\"\n",
              "              title=\"Convert this dataframe to an interactive table.\"\n",
              "              style=\"display:none;\">\n",
              "        \n",
              "  <svg xmlns=\"http://www.w3.org/2000/svg\" height=\"24px\"viewBox=\"0 0 24 24\"\n",
              "       width=\"24px\">\n",
              "    <path d=\"M0 0h24v24H0V0z\" fill=\"none\"/>\n",
              "    <path d=\"M18.56 5.44l.94 2.06.94-2.06 2.06-.94-2.06-.94-.94-2.06-.94 2.06-2.06.94zm-11 1L8.5 8.5l.94-2.06 2.06-.94-2.06-.94L8.5 2.5l-.94 2.06-2.06.94zm10 10l.94 2.06.94-2.06 2.06-.94-2.06-.94-.94-2.06-.94 2.06-2.06.94z\"/><path d=\"M17.41 7.96l-1.37-1.37c-.4-.4-.92-.59-1.43-.59-.52 0-1.04.2-1.43.59L10.3 9.45l-7.72 7.72c-.78.78-.78 2.05 0 2.83L4 21.41c.39.39.9.59 1.41.59.51 0 1.02-.2 1.41-.59l7.78-7.78 2.81-2.81c.8-.78.8-2.07 0-2.86zM5.41 20L4 18.59l7.72-7.72 1.47 1.35L5.41 20z\"/>\n",
              "  </svg>\n",
              "      </button>\n",
              "      \n",
              "  <style>\n",
              "    .colab-df-container {\n",
              "      display:flex;\n",
              "      flex-wrap:wrap;\n",
              "      gap: 12px;\n",
              "    }\n",
              "\n",
              "    .colab-df-convert {\n",
              "      background-color: #E8F0FE;\n",
              "      border: none;\n",
              "      border-radius: 50%;\n",
              "      cursor: pointer;\n",
              "      display: none;\n",
              "      fill: #1967D2;\n",
              "      height: 32px;\n",
              "      padding: 0 0 0 0;\n",
              "      width: 32px;\n",
              "    }\n",
              "\n",
              "    .colab-df-convert:hover {\n",
              "      background-color: #E2EBFA;\n",
              "      box-shadow: 0px 1px 2px rgba(60, 64, 67, 0.3), 0px 1px 3px 1px rgba(60, 64, 67, 0.15);\n",
              "      fill: #174EA6;\n",
              "    }\n",
              "\n",
              "    [theme=dark] .colab-df-convert {\n",
              "      background-color: #3B4455;\n",
              "      fill: #D2E3FC;\n",
              "    }\n",
              "\n",
              "    [theme=dark] .colab-df-convert:hover {\n",
              "      background-color: #434B5C;\n",
              "      box-shadow: 0px 1px 3px 1px rgba(0, 0, 0, 0.15);\n",
              "      filter: drop-shadow(0px 1px 2px rgba(0, 0, 0, 0.3));\n",
              "      fill: #FFFFFF;\n",
              "    }\n",
              "  </style>\n",
              "\n",
              "      <script>\n",
              "        const buttonEl =\n",
              "          document.querySelector('#df-455f21b6-868a-4759-b03a-1b3e5ccd99c4 button.colab-df-convert');\n",
              "        buttonEl.style.display =\n",
              "          google.colab.kernel.accessAllowed ? 'block' : 'none';\n",
              "\n",
              "        async function convertToInteractive(key) {\n",
              "          const element = document.querySelector('#df-455f21b6-868a-4759-b03a-1b3e5ccd99c4');\n",
              "          const dataTable =\n",
              "            await google.colab.kernel.invokeFunction('convertToInteractive',\n",
              "                                                     [key], {});\n",
              "          if (!dataTable) return;\n",
              "\n",
              "          const docLinkHtml = 'Like what you see? Visit the ' +\n",
              "            '<a target=\"_blank\" href=https://colab.research.google.com/notebooks/data_table.ipynb>data table notebook</a>'\n",
              "            + ' to learn more about interactive tables.';\n",
              "          element.innerHTML = '';\n",
              "          dataTable['output_type'] = 'display_data';\n",
              "          await google.colab.output.renderOutput(dataTable, element);\n",
              "          const docLink = document.createElement('div');\n",
              "          docLink.innerHTML = docLinkHtml;\n",
              "          element.appendChild(docLink);\n",
              "        }\n",
              "      </script>\n",
              "    </div>\n",
              "  </div>\n",
              "  "
            ],
            "text/plain": [
              "   Unnamed: 0         device_mac  branch_office  ...  hour_tz  visitor tiempodeses\n",
              "0           1  00:00:00:6a:17:ce              1  ...        0     True        2676\n",
              "1           2  00:00:00:6a:17:ce              1  ...        1     True        2676\n",
              "2           3  00:00:00:6a:78:ae              1  ...       20    False           0\n",
              "3           4  00:00:02:fa:9c:12              1  ...       12     True        2272\n",
              "4           5  00:00:08:7d:e2:58              3  ...       19    False           0\n",
              "5           6  00:00:31:04:ad:89              3  ...        5    False           0\n",
              "6           7  00:00:31:04:bc:da              2  ...       19    False           0\n",
              "7           8  00:00:77:34:37:30              3  ...       17    False           0\n",
              "8           9  00:01:0a:0f:ed:98              1  ...       16    False           0\n",
              "9          10  00:02:00:19:05:6f              1  ...       11    False           0\n",
              "\n",
              "[10 rows x 9 columns]"
            ]
          },
          "metadata": {}
        },
        {
          "output_type": "stream",
          "name": "stdout",
          "text": [
            "<class 'pandas.core.frame.DataFrame'>\n",
            "RangeIndex: 249556 entries, 0 to 249555\n",
            "Data columns (total 9 columns):\n",
            " #   Column          Non-Null Count   Dtype \n",
            "---  ------          --------------   ----- \n",
            " 0   Unnamed: 0      249556 non-null  int64 \n",
            " 1   device_mac      249556 non-null  object\n",
            " 2   branch_office   249556 non-null  int64 \n",
            " 3   month_tz        249556 non-null  int64 \n",
            " 4   day_tz          249556 non-null  int64 \n",
            " 5   day_of_week_tz  249556 non-null  object\n",
            " 6   hour_tz         249556 non-null  int64 \n",
            " 7   visitor         249556 non-null  bool  \n",
            " 8   tiempodeses     249556 non-null  int64 \n",
            "dtypes: bool(1), int64(6), object(2)\n",
            "memory usage: 15.5+ MB\n"
          ]
        },
        {
          "output_type": "display_data",
          "data": {
            "text/plain": [
              "None"
            ]
          },
          "metadata": {}
        },
        {
          "output_type": "display_data",
          "data": {
            "text/html": [
              "\n",
              "  <div id=\"df-4cab0ca3-a191-46c0-9b3b-7c31b04b15f1\">\n",
              "    <div class=\"colab-df-container\">\n",
              "      <div>\n",
              "<style scoped>\n",
              "    .dataframe tbody tr th:only-of-type {\n",
              "        vertical-align: middle;\n",
              "    }\n",
              "\n",
              "    .dataframe tbody tr th {\n",
              "        vertical-align: top;\n",
              "    }\n",
              "\n",
              "    .dataframe thead th {\n",
              "        text-align: right;\n",
              "    }\n",
              "</style>\n",
              "<table border=\"1\" class=\"dataframe\">\n",
              "  <thead>\n",
              "    <tr style=\"text-align: right;\">\n",
              "      <th></th>\n",
              "      <th>Unnamed: 0</th>\n",
              "      <th>branch_office</th>\n",
              "      <th>month_tz</th>\n",
              "      <th>day_tz</th>\n",
              "      <th>hour_tz</th>\n",
              "      <th>tiempodeses</th>\n",
              "    </tr>\n",
              "  </thead>\n",
              "  <tbody>\n",
              "    <tr>\n",
              "      <th>count</th>\n",
              "      <td>249556.000000</td>\n",
              "      <td>249556.000000</td>\n",
              "      <td>249556.000000</td>\n",
              "      <td>249556.000000</td>\n",
              "      <td>249556.000000</td>\n",
              "      <td>249556.000000</td>\n",
              "    </tr>\n",
              "    <tr>\n",
              "      <th>mean</th>\n",
              "      <td>124778.500000</td>\n",
              "      <td>1.884339</td>\n",
              "      <td>10.875619</td>\n",
              "      <td>14.802581</td>\n",
              "      <td>13.637468</td>\n",
              "      <td>2374.752244</td>\n",
              "    </tr>\n",
              "    <tr>\n",
              "      <th>std</th>\n",
              "      <td>72040.756226</td>\n",
              "      <td>0.942488</td>\n",
              "      <td>0.330016</td>\n",
              "      <td>9.466301</td>\n",
              "      <td>5.273697</td>\n",
              "      <td>8058.886022</td>\n",
              "    </tr>\n",
              "    <tr>\n",
              "      <th>min</th>\n",
              "      <td>1.000000</td>\n",
              "      <td>1.000000</td>\n",
              "      <td>10.000000</td>\n",
              "      <td>1.000000</td>\n",
              "      <td>0.000000</td>\n",
              "      <td>0.000000</td>\n",
              "    </tr>\n",
              "    <tr>\n",
              "      <th>25%</th>\n",
              "      <td>62389.750000</td>\n",
              "      <td>1.000000</td>\n",
              "      <td>11.000000</td>\n",
              "      <td>7.000000</td>\n",
              "      <td>10.000000</td>\n",
              "      <td>0.000000</td>\n",
              "    </tr>\n",
              "    <tr>\n",
              "      <th>50%</th>\n",
              "      <td>124778.500000</td>\n",
              "      <td>1.000000</td>\n",
              "      <td>11.000000</td>\n",
              "      <td>13.000000</td>\n",
              "      <td>14.000000</td>\n",
              "      <td>0.000000</td>\n",
              "    </tr>\n",
              "    <tr>\n",
              "      <th>75%</th>\n",
              "      <td>187167.250000</td>\n",
              "      <td>3.000000</td>\n",
              "      <td>11.000000</td>\n",
              "      <td>24.000000</td>\n",
              "      <td>18.000000</td>\n",
              "      <td>421.000000</td>\n",
              "    </tr>\n",
              "    <tr>\n",
              "      <th>max</th>\n",
              "      <td>249556.000000</td>\n",
              "      <td>3.000000</td>\n",
              "      <td>11.000000</td>\n",
              "      <td>31.000000</td>\n",
              "      <td>23.000000</td>\n",
              "      <td>68062.000000</td>\n",
              "    </tr>\n",
              "  </tbody>\n",
              "</table>\n",
              "</div>\n",
              "      <button class=\"colab-df-convert\" onclick=\"convertToInteractive('df-4cab0ca3-a191-46c0-9b3b-7c31b04b15f1')\"\n",
              "              title=\"Convert this dataframe to an interactive table.\"\n",
              "              style=\"display:none;\">\n",
              "        \n",
              "  <svg xmlns=\"http://www.w3.org/2000/svg\" height=\"24px\"viewBox=\"0 0 24 24\"\n",
              "       width=\"24px\">\n",
              "    <path d=\"M0 0h24v24H0V0z\" fill=\"none\"/>\n",
              "    <path d=\"M18.56 5.44l.94 2.06.94-2.06 2.06-.94-2.06-.94-.94-2.06-.94 2.06-2.06.94zm-11 1L8.5 8.5l.94-2.06 2.06-.94-2.06-.94L8.5 2.5l-.94 2.06-2.06.94zm10 10l.94 2.06.94-2.06 2.06-.94-2.06-.94-.94-2.06-.94 2.06-2.06.94z\"/><path d=\"M17.41 7.96l-1.37-1.37c-.4-.4-.92-.59-1.43-.59-.52 0-1.04.2-1.43.59L10.3 9.45l-7.72 7.72c-.78.78-.78 2.05 0 2.83L4 21.41c.39.39.9.59 1.41.59.51 0 1.02-.2 1.41-.59l7.78-7.78 2.81-2.81c.8-.78.8-2.07 0-2.86zM5.41 20L4 18.59l7.72-7.72 1.47 1.35L5.41 20z\"/>\n",
              "  </svg>\n",
              "      </button>\n",
              "      \n",
              "  <style>\n",
              "    .colab-df-container {\n",
              "      display:flex;\n",
              "      flex-wrap:wrap;\n",
              "      gap: 12px;\n",
              "    }\n",
              "\n",
              "    .colab-df-convert {\n",
              "      background-color: #E8F0FE;\n",
              "      border: none;\n",
              "      border-radius: 50%;\n",
              "      cursor: pointer;\n",
              "      display: none;\n",
              "      fill: #1967D2;\n",
              "      height: 32px;\n",
              "      padding: 0 0 0 0;\n",
              "      width: 32px;\n",
              "    }\n",
              "\n",
              "    .colab-df-convert:hover {\n",
              "      background-color: #E2EBFA;\n",
              "      box-shadow: 0px 1px 2px rgba(60, 64, 67, 0.3), 0px 1px 3px 1px rgba(60, 64, 67, 0.15);\n",
              "      fill: #174EA6;\n",
              "    }\n",
              "\n",
              "    [theme=dark] .colab-df-convert {\n",
              "      background-color: #3B4455;\n",
              "      fill: #D2E3FC;\n",
              "    }\n",
              "\n",
              "    [theme=dark] .colab-df-convert:hover {\n",
              "      background-color: #434B5C;\n",
              "      box-shadow: 0px 1px 3px 1px rgba(0, 0, 0, 0.15);\n",
              "      filter: drop-shadow(0px 1px 2px rgba(0, 0, 0, 0.3));\n",
              "      fill: #FFFFFF;\n",
              "    }\n",
              "  </style>\n",
              "\n",
              "      <script>\n",
              "        const buttonEl =\n",
              "          document.querySelector('#df-4cab0ca3-a191-46c0-9b3b-7c31b04b15f1 button.colab-df-convert');\n",
              "        buttonEl.style.display =\n",
              "          google.colab.kernel.accessAllowed ? 'block' : 'none';\n",
              "\n",
              "        async function convertToInteractive(key) {\n",
              "          const element = document.querySelector('#df-4cab0ca3-a191-46c0-9b3b-7c31b04b15f1');\n",
              "          const dataTable =\n",
              "            await google.colab.kernel.invokeFunction('convertToInteractive',\n",
              "                                                     [key], {});\n",
              "          if (!dataTable) return;\n",
              "\n",
              "          const docLinkHtml = 'Like what you see? Visit the ' +\n",
              "            '<a target=\"_blank\" href=https://colab.research.google.com/notebooks/data_table.ipynb>data table notebook</a>'\n",
              "            + ' to learn more about interactive tables.';\n",
              "          element.innerHTML = '';\n",
              "          dataTable['output_type'] = 'display_data';\n",
              "          await google.colab.output.renderOutput(dataTable, element);\n",
              "          const docLink = document.createElement('div');\n",
              "          docLink.innerHTML = docLinkHtml;\n",
              "          element.appendChild(docLink);\n",
              "        }\n",
              "      </script>\n",
              "    </div>\n",
              "  </div>\n",
              "  "
            ],
            "text/plain": [
              "          Unnamed: 0  branch_office  ...        hour_tz    tiempodeses\n",
              "count  249556.000000  249556.000000  ...  249556.000000  249556.000000\n",
              "mean   124778.500000       1.884339  ...      13.637468    2374.752244\n",
              "std     72040.756226       0.942488  ...       5.273697    8058.886022\n",
              "min         1.000000       1.000000  ...       0.000000       0.000000\n",
              "25%     62389.750000       1.000000  ...      10.000000       0.000000\n",
              "50%    124778.500000       1.000000  ...      14.000000       0.000000\n",
              "75%    187167.250000       3.000000  ...      18.000000     421.000000\n",
              "max    249556.000000       3.000000  ...      23.000000   68062.000000\n",
              "\n",
              "[8 rows x 6 columns]"
            ]
          },
          "metadata": {}
        }
      ],
      "source": [
        "url = 'https://raw.githubusercontent.com/SantiagoUtrillaWM/DataAnalysis2/main/e.csv'\n",
        "df = pd.read_csv(url)\n",
        "display(df.head(10))\n",
        "display(df.info())\n",
        "display(df.describe())"
      ]
    },
    {
      "cell_type": "markdown",
      "source": [
        "I can see that there are close to 250k sessions without Null Results.\n",
        "\n",
        "Seeing at the data I decided to exclude the device because it could increase the posibility of overfitting the model. \n",
        "\n",
        "Other things I can find in the overview is that there is only 3 different branch offices, two months (oct & nov), the 31 days of the month, the 24h where 12am is written as 00 hours and most sessions duration is 0 seconds."
      ],
      "metadata": {
        "id": "PwdG2tfHhy_e"
      }
    },
    {
      "cell_type": "code",
      "source": [
        "nVisits = df.visitor.value_counts().reset_index()\n",
        "nVisits.columns = ['value', 'visitors']"
      ],
      "metadata": {
        "id": "-u9geH9osm3N"
      },
      "execution_count": 5,
      "outputs": []
    },
    {
      "cell_type": "code",
      "source": [
        "pVisits = df.visitor.value_counts(normalize = True).reset_index()\n",
        "pVisits.columns = ['value', 'visitors']\n",
        "\n",
        "pVisits.head()"
      ],
      "metadata": {
        "colab": {
          "base_uri": "https://localhost:8080/",
          "height": 112
        },
        "id": "2UYy-kYhqAOp",
        "outputId": "ba9ded43-0790-49f7-f50c-0e189310d36e"
      },
      "execution_count": 6,
      "outputs": [
        {
          "output_type": "execute_result",
          "data": {
            "text/html": [
              "\n",
              "  <div id=\"df-9687c582-d170-47cf-a5c9-6a87558c0eef\">\n",
              "    <div class=\"colab-df-container\">\n",
              "      <div>\n",
              "<style scoped>\n",
              "    .dataframe tbody tr th:only-of-type {\n",
              "        vertical-align: middle;\n",
              "    }\n",
              "\n",
              "    .dataframe tbody tr th {\n",
              "        vertical-align: top;\n",
              "    }\n",
              "\n",
              "    .dataframe thead th {\n",
              "        text-align: right;\n",
              "    }\n",
              "</style>\n",
              "<table border=\"1\" class=\"dataframe\">\n",
              "  <thead>\n",
              "    <tr style=\"text-align: right;\">\n",
              "      <th></th>\n",
              "      <th>value</th>\n",
              "      <th>visitors</th>\n",
              "    </tr>\n",
              "  </thead>\n",
              "  <tbody>\n",
              "    <tr>\n",
              "      <th>0</th>\n",
              "      <td>False</td>\n",
              "      <td>0.658417</td>\n",
              "    </tr>\n",
              "    <tr>\n",
              "      <th>1</th>\n",
              "      <td>True</td>\n",
              "      <td>0.341583</td>\n",
              "    </tr>\n",
              "  </tbody>\n",
              "</table>\n",
              "</div>\n",
              "      <button class=\"colab-df-convert\" onclick=\"convertToInteractive('df-9687c582-d170-47cf-a5c9-6a87558c0eef')\"\n",
              "              title=\"Convert this dataframe to an interactive table.\"\n",
              "              style=\"display:none;\">\n",
              "        \n",
              "  <svg xmlns=\"http://www.w3.org/2000/svg\" height=\"24px\"viewBox=\"0 0 24 24\"\n",
              "       width=\"24px\">\n",
              "    <path d=\"M0 0h24v24H0V0z\" fill=\"none\"/>\n",
              "    <path d=\"M18.56 5.44l.94 2.06.94-2.06 2.06-.94-2.06-.94-.94-2.06-.94 2.06-2.06.94zm-11 1L8.5 8.5l.94-2.06 2.06-.94-2.06-.94L8.5 2.5l-.94 2.06-2.06.94zm10 10l.94 2.06.94-2.06 2.06-.94-2.06-.94-.94-2.06-.94 2.06-2.06.94z\"/><path d=\"M17.41 7.96l-1.37-1.37c-.4-.4-.92-.59-1.43-.59-.52 0-1.04.2-1.43.59L10.3 9.45l-7.72 7.72c-.78.78-.78 2.05 0 2.83L4 21.41c.39.39.9.59 1.41.59.51 0 1.02-.2 1.41-.59l7.78-7.78 2.81-2.81c.8-.78.8-2.07 0-2.86zM5.41 20L4 18.59l7.72-7.72 1.47 1.35L5.41 20z\"/>\n",
              "  </svg>\n",
              "      </button>\n",
              "      \n",
              "  <style>\n",
              "    .colab-df-container {\n",
              "      display:flex;\n",
              "      flex-wrap:wrap;\n",
              "      gap: 12px;\n",
              "    }\n",
              "\n",
              "    .colab-df-convert {\n",
              "      background-color: #E8F0FE;\n",
              "      border: none;\n",
              "      border-radius: 50%;\n",
              "      cursor: pointer;\n",
              "      display: none;\n",
              "      fill: #1967D2;\n",
              "      height: 32px;\n",
              "      padding: 0 0 0 0;\n",
              "      width: 32px;\n",
              "    }\n",
              "\n",
              "    .colab-df-convert:hover {\n",
              "      background-color: #E2EBFA;\n",
              "      box-shadow: 0px 1px 2px rgba(60, 64, 67, 0.3), 0px 1px 3px 1px rgba(60, 64, 67, 0.15);\n",
              "      fill: #174EA6;\n",
              "    }\n",
              "\n",
              "    [theme=dark] .colab-df-convert {\n",
              "      background-color: #3B4455;\n",
              "      fill: #D2E3FC;\n",
              "    }\n",
              "\n",
              "    [theme=dark] .colab-df-convert:hover {\n",
              "      background-color: #434B5C;\n",
              "      box-shadow: 0px 1px 3px 1px rgba(0, 0, 0, 0.15);\n",
              "      filter: drop-shadow(0px 1px 2px rgba(0, 0, 0, 0.3));\n",
              "      fill: #FFFFFF;\n",
              "    }\n",
              "  </style>\n",
              "\n",
              "      <script>\n",
              "        const buttonEl =\n",
              "          document.querySelector('#df-9687c582-d170-47cf-a5c9-6a87558c0eef button.colab-df-convert');\n",
              "        buttonEl.style.display =\n",
              "          google.colab.kernel.accessAllowed ? 'block' : 'none';\n",
              "\n",
              "        async function convertToInteractive(key) {\n",
              "          const element = document.querySelector('#df-9687c582-d170-47cf-a5c9-6a87558c0eef');\n",
              "          const dataTable =\n",
              "            await google.colab.kernel.invokeFunction('convertToInteractive',\n",
              "                                                     [key], {});\n",
              "          if (!dataTable) return;\n",
              "\n",
              "          const docLinkHtml = 'Like what you see? Visit the ' +\n",
              "            '<a target=\"_blank\" href=https://colab.research.google.com/notebooks/data_table.ipynb>data table notebook</a>'\n",
              "            + ' to learn more about interactive tables.';\n",
              "          element.innerHTML = '';\n",
              "          dataTable['output_type'] = 'display_data';\n",
              "          await google.colab.output.renderOutput(dataTable, element);\n",
              "          const docLink = document.createElement('div');\n",
              "          docLink.innerHTML = docLinkHtml;\n",
              "          element.appendChild(docLink);\n",
              "        }\n",
              "      </script>\n",
              "    </div>\n",
              "  </div>\n",
              "  "
            ],
            "text/plain": [
              "   value  visitors\n",
              "0  False  0.658417\n",
              "1   True  0.341583"
            ]
          },
          "metadata": {},
          "execution_count": 6
        }
      ]
    },
    {
      "cell_type": "markdown",
      "source": [
        "Only 34% of the users were true visitors. \n",
        "\n"
      ],
      "metadata": {
        "id": "8Tnr2Emli_Mh"
      }
    },
    {
      "cell_type": "markdown",
      "source": [
        "Now I am going to do some data manipulation to graph different behaviors through the different days of the week and different hours."
      ],
      "metadata": {
        "id": "T5quiaseurxa"
      }
    },
    {
      "cell_type": "code",
      "source": [
        "timeCount = df.groupby(['hour_tz']).count()['day_tz'].reset_index()\n",
        "timeCount.columns=['hour', 'visitors']\n",
        "\n",
        "timeCount.head(10)"
      ],
      "metadata": {
        "colab": {
          "base_uri": "https://localhost:8080/",
          "height": 363
        },
        "id": "CmbTDSpknbu_",
        "outputId": "ad3c9ef1-2855-48a3-d46c-0c8b8ce609c3"
      },
      "execution_count": 7,
      "outputs": [
        {
          "output_type": "execute_result",
          "data": {
            "text/html": [
              "\n",
              "  <div id=\"df-d73623ee-72e4-438c-8705-d944617af263\">\n",
              "    <div class=\"colab-df-container\">\n",
              "      <div>\n",
              "<style scoped>\n",
              "    .dataframe tbody tr th:only-of-type {\n",
              "        vertical-align: middle;\n",
              "    }\n",
              "\n",
              "    .dataframe tbody tr th {\n",
              "        vertical-align: top;\n",
              "    }\n",
              "\n",
              "    .dataframe thead th {\n",
              "        text-align: right;\n",
              "    }\n",
              "</style>\n",
              "<table border=\"1\" class=\"dataframe\">\n",
              "  <thead>\n",
              "    <tr style=\"text-align: right;\">\n",
              "      <th></th>\n",
              "      <th>hour</th>\n",
              "      <th>visitors</th>\n",
              "    </tr>\n",
              "  </thead>\n",
              "  <tbody>\n",
              "    <tr>\n",
              "      <th>0</th>\n",
              "      <td>0</td>\n",
              "      <td>3661</td>\n",
              "    </tr>\n",
              "    <tr>\n",
              "      <th>1</th>\n",
              "      <td>1</td>\n",
              "      <td>2611</td>\n",
              "    </tr>\n",
              "    <tr>\n",
              "      <th>2</th>\n",
              "      <td>2</td>\n",
              "      <td>1900</td>\n",
              "    </tr>\n",
              "    <tr>\n",
              "      <th>3</th>\n",
              "      <td>3</td>\n",
              "      <td>1599</td>\n",
              "    </tr>\n",
              "    <tr>\n",
              "      <th>4</th>\n",
              "      <td>4</td>\n",
              "      <td>1569</td>\n",
              "    </tr>\n",
              "    <tr>\n",
              "      <th>5</th>\n",
              "      <td>5</td>\n",
              "      <td>2852</td>\n",
              "    </tr>\n",
              "    <tr>\n",
              "      <th>6</th>\n",
              "      <td>6</td>\n",
              "      <td>6809</td>\n",
              "    </tr>\n",
              "    <tr>\n",
              "      <th>7</th>\n",
              "      <td>7</td>\n",
              "      <td>10664</td>\n",
              "    </tr>\n",
              "    <tr>\n",
              "      <th>8</th>\n",
              "      <td>8</td>\n",
              "      <td>14459</td>\n",
              "    </tr>\n",
              "    <tr>\n",
              "      <th>9</th>\n",
              "      <td>9</td>\n",
              "      <td>14132</td>\n",
              "    </tr>\n",
              "  </tbody>\n",
              "</table>\n",
              "</div>\n",
              "      <button class=\"colab-df-convert\" onclick=\"convertToInteractive('df-d73623ee-72e4-438c-8705-d944617af263')\"\n",
              "              title=\"Convert this dataframe to an interactive table.\"\n",
              "              style=\"display:none;\">\n",
              "        \n",
              "  <svg xmlns=\"http://www.w3.org/2000/svg\" height=\"24px\"viewBox=\"0 0 24 24\"\n",
              "       width=\"24px\">\n",
              "    <path d=\"M0 0h24v24H0V0z\" fill=\"none\"/>\n",
              "    <path d=\"M18.56 5.44l.94 2.06.94-2.06 2.06-.94-2.06-.94-.94-2.06-.94 2.06-2.06.94zm-11 1L8.5 8.5l.94-2.06 2.06-.94-2.06-.94L8.5 2.5l-.94 2.06-2.06.94zm10 10l.94 2.06.94-2.06 2.06-.94-2.06-.94-.94-2.06-.94 2.06-2.06.94z\"/><path d=\"M17.41 7.96l-1.37-1.37c-.4-.4-.92-.59-1.43-.59-.52 0-1.04.2-1.43.59L10.3 9.45l-7.72 7.72c-.78.78-.78 2.05 0 2.83L4 21.41c.39.39.9.59 1.41.59.51 0 1.02-.2 1.41-.59l7.78-7.78 2.81-2.81c.8-.78.8-2.07 0-2.86zM5.41 20L4 18.59l7.72-7.72 1.47 1.35L5.41 20z\"/>\n",
              "  </svg>\n",
              "      </button>\n",
              "      \n",
              "  <style>\n",
              "    .colab-df-container {\n",
              "      display:flex;\n",
              "      flex-wrap:wrap;\n",
              "      gap: 12px;\n",
              "    }\n",
              "\n",
              "    .colab-df-convert {\n",
              "      background-color: #E8F0FE;\n",
              "      border: none;\n",
              "      border-radius: 50%;\n",
              "      cursor: pointer;\n",
              "      display: none;\n",
              "      fill: #1967D2;\n",
              "      height: 32px;\n",
              "      padding: 0 0 0 0;\n",
              "      width: 32px;\n",
              "    }\n",
              "\n",
              "    .colab-df-convert:hover {\n",
              "      background-color: #E2EBFA;\n",
              "      box-shadow: 0px 1px 2px rgba(60, 64, 67, 0.3), 0px 1px 3px 1px rgba(60, 64, 67, 0.15);\n",
              "      fill: #174EA6;\n",
              "    }\n",
              "\n",
              "    [theme=dark] .colab-df-convert {\n",
              "      background-color: #3B4455;\n",
              "      fill: #D2E3FC;\n",
              "    }\n",
              "\n",
              "    [theme=dark] .colab-df-convert:hover {\n",
              "      background-color: #434B5C;\n",
              "      box-shadow: 0px 1px 3px 1px rgba(0, 0, 0, 0.15);\n",
              "      filter: drop-shadow(0px 1px 2px rgba(0, 0, 0, 0.3));\n",
              "      fill: #FFFFFF;\n",
              "    }\n",
              "  </style>\n",
              "\n",
              "      <script>\n",
              "        const buttonEl =\n",
              "          document.querySelector('#df-d73623ee-72e4-438c-8705-d944617af263 button.colab-df-convert');\n",
              "        buttonEl.style.display =\n",
              "          google.colab.kernel.accessAllowed ? 'block' : 'none';\n",
              "\n",
              "        async function convertToInteractive(key) {\n",
              "          const element = document.querySelector('#df-d73623ee-72e4-438c-8705-d944617af263');\n",
              "          const dataTable =\n",
              "            await google.colab.kernel.invokeFunction('convertToInteractive',\n",
              "                                                     [key], {});\n",
              "          if (!dataTable) return;\n",
              "\n",
              "          const docLinkHtml = 'Like what you see? Visit the ' +\n",
              "            '<a target=\"_blank\" href=https://colab.research.google.com/notebooks/data_table.ipynb>data table notebook</a>'\n",
              "            + ' to learn more about interactive tables.';\n",
              "          element.innerHTML = '';\n",
              "          dataTable['output_type'] = 'display_data';\n",
              "          await google.colab.output.renderOutput(dataTable, element);\n",
              "          const docLink = document.createElement('div');\n",
              "          docLink.innerHTML = docLinkHtml;\n",
              "          element.appendChild(docLink);\n",
              "        }\n",
              "      </script>\n",
              "    </div>\n",
              "  </div>\n",
              "  "
            ],
            "text/plain": [
              "   hour  visitors\n",
              "0     0      3661\n",
              "1     1      2611\n",
              "2     2      1900\n",
              "3     3      1599\n",
              "4     4      1569\n",
              "5     5      2852\n",
              "6     6      6809\n",
              "7     7     10664\n",
              "8     8     14459\n",
              "9     9     14132"
            ]
          },
          "metadata": {},
          "execution_count": 7
        }
      ]
    },
    {
      "cell_type": "code",
      "source": [
        "vTimeCount = df.groupby(['hour_tz','visitor'])['device_mac'].count().reset_index()\n",
        "vTimeCount.columns=['hour', 'value', 'visitors']\n",
        "\n",
        "isValue = vTimeCount['value'] == False\n",
        "vTimeCountFalse = vTimeCount[isValue]\n",
        "\n",
        "isValue = vTimeCount['value'] == True\n",
        "vTimeCountTrue = vTimeCount[isValue]\n",
        "\n",
        "vTimeCountTrue.head(10)"
      ],
      "metadata": {
        "colab": {
          "base_uri": "https://localhost:8080/",
          "height": 363
        },
        "id": "A-gPIA3Ozp79",
        "outputId": "26a445b7-31f7-482f-9ca6-6a20b1491c9d"
      },
      "execution_count": 8,
      "outputs": [
        {
          "output_type": "execute_result",
          "data": {
            "text/html": [
              "\n",
              "  <div id=\"df-6d7a1a39-79d0-41a5-829b-5510dee81452\">\n",
              "    <div class=\"colab-df-container\">\n",
              "      <div>\n",
              "<style scoped>\n",
              "    .dataframe tbody tr th:only-of-type {\n",
              "        vertical-align: middle;\n",
              "    }\n",
              "\n",
              "    .dataframe tbody tr th {\n",
              "        vertical-align: top;\n",
              "    }\n",
              "\n",
              "    .dataframe thead th {\n",
              "        text-align: right;\n",
              "    }\n",
              "</style>\n",
              "<table border=\"1\" class=\"dataframe\">\n",
              "  <thead>\n",
              "    <tr style=\"text-align: right;\">\n",
              "      <th></th>\n",
              "      <th>hour</th>\n",
              "      <th>value</th>\n",
              "      <th>visitors</th>\n",
              "    </tr>\n",
              "  </thead>\n",
              "  <tbody>\n",
              "    <tr>\n",
              "      <th>1</th>\n",
              "      <td>0</td>\n",
              "      <td>True</td>\n",
              "      <td>1480</td>\n",
              "    </tr>\n",
              "    <tr>\n",
              "      <th>3</th>\n",
              "      <td>1</td>\n",
              "      <td>True</td>\n",
              "      <td>1266</td>\n",
              "    </tr>\n",
              "    <tr>\n",
              "      <th>5</th>\n",
              "      <td>2</td>\n",
              "      <td>True</td>\n",
              "      <td>1000</td>\n",
              "    </tr>\n",
              "    <tr>\n",
              "      <th>7</th>\n",
              "      <td>3</td>\n",
              "      <td>True</td>\n",
              "      <td>891</td>\n",
              "    </tr>\n",
              "    <tr>\n",
              "      <th>9</th>\n",
              "      <td>4</td>\n",
              "      <td>True</td>\n",
              "      <td>839</td>\n",
              "    </tr>\n",
              "    <tr>\n",
              "      <th>11</th>\n",
              "      <td>5</td>\n",
              "      <td>True</td>\n",
              "      <td>894</td>\n",
              "    </tr>\n",
              "    <tr>\n",
              "      <th>13</th>\n",
              "      <td>6</td>\n",
              "      <td>True</td>\n",
              "      <td>1331</td>\n",
              "    </tr>\n",
              "    <tr>\n",
              "      <th>15</th>\n",
              "      <td>7</td>\n",
              "      <td>True</td>\n",
              "      <td>2320</td>\n",
              "    </tr>\n",
              "    <tr>\n",
              "      <th>17</th>\n",
              "      <td>8</td>\n",
              "      <td>True</td>\n",
              "      <td>3449</td>\n",
              "    </tr>\n",
              "    <tr>\n",
              "      <th>19</th>\n",
              "      <td>9</td>\n",
              "      <td>True</td>\n",
              "      <td>3955</td>\n",
              "    </tr>\n",
              "  </tbody>\n",
              "</table>\n",
              "</div>\n",
              "      <button class=\"colab-df-convert\" onclick=\"convertToInteractive('df-6d7a1a39-79d0-41a5-829b-5510dee81452')\"\n",
              "              title=\"Convert this dataframe to an interactive table.\"\n",
              "              style=\"display:none;\">\n",
              "        \n",
              "  <svg xmlns=\"http://www.w3.org/2000/svg\" height=\"24px\"viewBox=\"0 0 24 24\"\n",
              "       width=\"24px\">\n",
              "    <path d=\"M0 0h24v24H0V0z\" fill=\"none\"/>\n",
              "    <path d=\"M18.56 5.44l.94 2.06.94-2.06 2.06-.94-2.06-.94-.94-2.06-.94 2.06-2.06.94zm-11 1L8.5 8.5l.94-2.06 2.06-.94-2.06-.94L8.5 2.5l-.94 2.06-2.06.94zm10 10l.94 2.06.94-2.06 2.06-.94-2.06-.94-.94-2.06-.94 2.06-2.06.94z\"/><path d=\"M17.41 7.96l-1.37-1.37c-.4-.4-.92-.59-1.43-.59-.52 0-1.04.2-1.43.59L10.3 9.45l-7.72 7.72c-.78.78-.78 2.05 0 2.83L4 21.41c.39.39.9.59 1.41.59.51 0 1.02-.2 1.41-.59l7.78-7.78 2.81-2.81c.8-.78.8-2.07 0-2.86zM5.41 20L4 18.59l7.72-7.72 1.47 1.35L5.41 20z\"/>\n",
              "  </svg>\n",
              "      </button>\n",
              "      \n",
              "  <style>\n",
              "    .colab-df-container {\n",
              "      display:flex;\n",
              "      flex-wrap:wrap;\n",
              "      gap: 12px;\n",
              "    }\n",
              "\n",
              "    .colab-df-convert {\n",
              "      background-color: #E8F0FE;\n",
              "      border: none;\n",
              "      border-radius: 50%;\n",
              "      cursor: pointer;\n",
              "      display: none;\n",
              "      fill: #1967D2;\n",
              "      height: 32px;\n",
              "      padding: 0 0 0 0;\n",
              "      width: 32px;\n",
              "    }\n",
              "\n",
              "    .colab-df-convert:hover {\n",
              "      background-color: #E2EBFA;\n",
              "      box-shadow: 0px 1px 2px rgba(60, 64, 67, 0.3), 0px 1px 3px 1px rgba(60, 64, 67, 0.15);\n",
              "      fill: #174EA6;\n",
              "    }\n",
              "\n",
              "    [theme=dark] .colab-df-convert {\n",
              "      background-color: #3B4455;\n",
              "      fill: #D2E3FC;\n",
              "    }\n",
              "\n",
              "    [theme=dark] .colab-df-convert:hover {\n",
              "      background-color: #434B5C;\n",
              "      box-shadow: 0px 1px 3px 1px rgba(0, 0, 0, 0.15);\n",
              "      filter: drop-shadow(0px 1px 2px rgba(0, 0, 0, 0.3));\n",
              "      fill: #FFFFFF;\n",
              "    }\n",
              "  </style>\n",
              "\n",
              "      <script>\n",
              "        const buttonEl =\n",
              "          document.querySelector('#df-6d7a1a39-79d0-41a5-829b-5510dee81452 button.colab-df-convert');\n",
              "        buttonEl.style.display =\n",
              "          google.colab.kernel.accessAllowed ? 'block' : 'none';\n",
              "\n",
              "        async function convertToInteractive(key) {\n",
              "          const element = document.querySelector('#df-6d7a1a39-79d0-41a5-829b-5510dee81452');\n",
              "          const dataTable =\n",
              "            await google.colab.kernel.invokeFunction('convertToInteractive',\n",
              "                                                     [key], {});\n",
              "          if (!dataTable) return;\n",
              "\n",
              "          const docLinkHtml = 'Like what you see? Visit the ' +\n",
              "            '<a target=\"_blank\" href=https://colab.research.google.com/notebooks/data_table.ipynb>data table notebook</a>'\n",
              "            + ' to learn more about interactive tables.';\n",
              "          element.innerHTML = '';\n",
              "          dataTable['output_type'] = 'display_data';\n",
              "          await google.colab.output.renderOutput(dataTable, element);\n",
              "          const docLink = document.createElement('div');\n",
              "          docLink.innerHTML = docLinkHtml;\n",
              "          element.appendChild(docLink);\n",
              "        }\n",
              "      </script>\n",
              "    </div>\n",
              "  </div>\n",
              "  "
            ],
            "text/plain": [
              "    hour  value  visitors\n",
              "1      0   True      1480\n",
              "3      1   True      1266\n",
              "5      2   True      1000\n",
              "7      3   True       891\n",
              "9      4   True       839\n",
              "11     5   True       894\n",
              "13     6   True      1331\n",
              "15     7   True      2320\n",
              "17     8   True      3449\n",
              "19     9   True      3955"
            ]
          },
          "metadata": {},
          "execution_count": 8
        }
      ]
    },
    {
      "cell_type": "code",
      "source": [
        "plt.figure(figsize=[21,10])\n",
        "plt.subplot(3,3,1)\n",
        "plt.bar(timeCount['hour'], timeCount['visitors'])\n",
        "plt.title('All Data')\n",
        "\n",
        "plt.subplot(3,3,2)\n",
        "plt.bar(vTimeCountTrue['hour'], vTimeCountTrue['visitors'])\n",
        "plt.title('Visitors')\n",
        "\n",
        "plt.subplot(3,3,3)\n",
        "plt.bar(vTimeCountFalse['hour'], vTimeCountFalse['visitors'])\n",
        "plt.title('Non Visitors')\n",
        "\n",
        "plt.xlabel(\"bar number\")\n",
        "plt.ylabel(\"bar height\")\n",
        "\n",
        "plt.show()\n",
        "\n",
        "#timeCount.plot.bar(x='hour', y='visitors', rot=30, figsize=(15,10))\n",
        "#plt.title(timeCount)"
      ],
      "metadata": {
        "colab": {
          "base_uri": "https://localhost:8080/",
          "height": 258
        },
        "id": "efMoyWhitVtv",
        "outputId": "c28e25f3-3014-4fc0-99cd-ebb4262f75fb"
      },
      "execution_count": 53,
      "outputs": [
        {
          "output_type": "display_data",
          "data": {
            "image/png": "[encoded data removed]",
            "text/plain": [
              "<Figure size 1512x720 with 3 Axes>"
            ]
          },
          "metadata": {
            "needs_background": "light"
          }
        }
      ]
    },
    {
      "cell_type": "markdown",
      "source": [
        "Although the visitors proportion is small vs the non visitors, it seems to have the same behaviour during the day except at 8 and 9 o'clock in the morning where is a peak in the non visitors."
      ],
      "metadata": {
        "id": "m4EKjclpu0dL"
      }
    },
    {
      "cell_type": "code",
      "source": [
        "timesDay = df.groupby(['day_of_week_tz']).count()['day_tz'].reset_index()\n",
        "timesDay.columns=['dayWeek', 'visitors']\n",
        "timesDay['dayWeek'] = pd.Categorical(timesDay['dayWeek'], categories=\n",
        "    ['Monday','Tuesday','Wednesday','Thursday','Friday','Saturday', 'Sunday'],\n",
        "    ordered=True)\n",
        "\n",
        "timesDay = timesDay.sort_values(by = ['dayWeek'] )"
      ],
      "metadata": {
        "id": "nb_98ZCZ72cs"
      },
      "execution_count": 10,
      "outputs": []
    },
    {
      "cell_type": "code",
      "source": [
        "vTimesDay = df.groupby(['day_of_week_tz','visitor'])['device_mac'].count().reset_index()\n",
        "vTimesDay.columns=['dayWeek', 'value', 'visitors']\n",
        "vTimesDay['dayWeek'] = pd.Categorical(vTimesDay['dayWeek'], categories=\n",
        "    ['Monday','Tuesday','Wednesday','Thursday','Friday','Saturday', 'Sunday'],\n",
        "    ordered=True)\n",
        "\n",
        "vTimesDay = vTimesDay.sort_values(by = ['dayWeek'] )\n",
        "\n",
        "isValue2 = vTimesDay['value'] == False\n",
        "vTimesDayFalse = vTimesDay[isValue2]\n",
        "\n",
        "isValue2 = vTimesDay['value'] == True\n",
        "vTimesDayTrue = vTimesDay[isValue2]\n",
        "\n",
        "vTimesDayTrue.head(10)"
      ],
      "metadata": {
        "colab": {
          "base_uri": "https://localhost:8080/",
          "height": 269
        },
        "id": "YXwWIhXA93ES",
        "outputId": "61453cfd-8ee1-4142-888c-ef1f55d8e085"
      },
      "execution_count": 11,
      "outputs": [
        {
          "output_type": "execute_result",
          "data": {
            "text/html": [
              "\n",
              "  <div id=\"df-18637662-a037-4316-98ea-da660dfd6111\">\n",
              "    <div class=\"colab-df-container\">\n",
              "      <div>\n",
              "<style scoped>\n",
              "    .dataframe tbody tr th:only-of-type {\n",
              "        vertical-align: middle;\n",
              "    }\n",
              "\n",
              "    .dataframe tbody tr th {\n",
              "        vertical-align: top;\n",
              "    }\n",
              "\n",
              "    .dataframe thead th {\n",
              "        text-align: right;\n",
              "    }\n",
              "</style>\n",
              "<table border=\"1\" class=\"dataframe\">\n",
              "  <thead>\n",
              "    <tr style=\"text-align: right;\">\n",
              "      <th></th>\n",
              "      <th>dayWeek</th>\n",
              "      <th>value</th>\n",
              "      <th>visitors</th>\n",
              "    </tr>\n",
              "  </thead>\n",
              "  <tbody>\n",
              "    <tr>\n",
              "      <th>3</th>\n",
              "      <td>Monday</td>\n",
              "      <td>True</td>\n",
              "      <td>11975</td>\n",
              "    </tr>\n",
              "    <tr>\n",
              "      <th>11</th>\n",
              "      <td>Tuesday</td>\n",
              "      <td>True</td>\n",
              "      <td>13515</td>\n",
              "    </tr>\n",
              "    <tr>\n",
              "      <th>13</th>\n",
              "      <td>Wednesday</td>\n",
              "      <td>True</td>\n",
              "      <td>15696</td>\n",
              "    </tr>\n",
              "    <tr>\n",
              "      <th>9</th>\n",
              "      <td>Thursday</td>\n",
              "      <td>True</td>\n",
              "      <td>13822</td>\n",
              "    </tr>\n",
              "    <tr>\n",
              "      <th>1</th>\n",
              "      <td>Friday</td>\n",
              "      <td>True</td>\n",
              "      <td>9189</td>\n",
              "    </tr>\n",
              "    <tr>\n",
              "      <th>5</th>\n",
              "      <td>Saturday</td>\n",
              "      <td>True</td>\n",
              "      <td>11117</td>\n",
              "    </tr>\n",
              "    <tr>\n",
              "      <th>7</th>\n",
              "      <td>Sunday</td>\n",
              "      <td>True</td>\n",
              "      <td>9930</td>\n",
              "    </tr>\n",
              "  </tbody>\n",
              "</table>\n",
              "</div>\n",
              "      <button class=\"colab-df-convert\" onclick=\"convertToInteractive('df-18637662-a037-4316-98ea-da660dfd6111')\"\n",
              "              title=\"Convert this dataframe to an interactive table.\"\n",
              "              style=\"display:none;\">\n",
              "        \n",
              "  <svg xmlns=\"http://www.w3.org/2000/svg\" height=\"24px\"viewBox=\"0 0 24 24\"\n",
              "       width=\"24px\">\n",
              "    <path d=\"M0 0h24v24H0V0z\" fill=\"none\"/>\n",
              "    <path d=\"M18.56 5.44l.94 2.06.94-2.06 2.06-.94-2.06-.94-.94-2.06-.94 2.06-2.06.94zm-11 1L8.5 8.5l.94-2.06 2.06-.94-2.06-.94L8.5 2.5l-.94 2.06-2.06.94zm10 10l.94 2.06.94-2.06 2.06-.94-2.06-.94-.94-2.06-.94 2.06-2.06.94z\"/><path d=\"M17.41 7.96l-1.37-1.37c-.4-.4-.92-.59-1.43-.59-.52 0-1.04.2-1.43.59L10.3 9.45l-7.72 7.72c-.78.78-.78 2.05 0 2.83L4 21.41c.39.39.9.59 1.41.59.51 0 1.02-.2 1.41-.59l7.78-7.78 2.81-2.81c.8-.78.8-2.07 0-2.86zM5.41 20L4 18.59l7.72-7.72 1.47 1.35L5.41 20z\"/>\n",
              "  </svg>\n",
              "      </button>\n",
              "      \n",
              "  <style>\n",
              "    .colab-df-container {\n",
              "      display:flex;\n",
              "      flex-wrap:wrap;\n",
              "      gap: 12px;\n",
              "    }\n",
              "\n",
              "    .colab-df-convert {\n",
              "      background-color: #E8F0FE;\n",
              "      border: none;\n",
              "      border-radius: 50%;\n",
              "      cursor: pointer;\n",
              "      display: none;\n",
              "      fill: #1967D2;\n",
              "      height: 32px;\n",
              "      padding: 0 0 0 0;\n",
              "      width: 32px;\n",
              "    }\n",
              "\n",
              "    .colab-df-convert:hover {\n",
              "      background-color: #E2EBFA;\n",
              "      box-shadow: 0px 1px 2px rgba(60, 64, 67, 0.3), 0px 1px 3px 1px rgba(60, 64, 67, 0.15);\n",
              "      fill: #174EA6;\n",
              "    }\n",
              "\n",
              "    [theme=dark] .colab-df-convert {\n",
              "      background-color: #3B4455;\n",
              "      fill: #D2E3FC;\n",
              "    }\n",
              "\n",
              "    [theme=dark] .colab-df-convert:hover {\n",
              "      background-color: #434B5C;\n",
              "      box-shadow: 0px 1px 3px 1px rgba(0, 0, 0, 0.15);\n",
              "      filter: drop-shadow(0px 1px 2px rgba(0, 0, 0, 0.3));\n",
              "      fill: #FFFFFF;\n",
              "    }\n",
              "  </style>\n",
              "\n",
              "      <script>\n",
              "        const buttonEl =\n",
              "          document.querySelector('#df-18637662-a037-4316-98ea-da660dfd6111 button.colab-df-convert');\n",
              "        buttonEl.style.display =\n",
              "          google.colab.kernel.accessAllowed ? 'block' : 'none';\n",
              "\n",
              "        async function convertToInteractive(key) {\n",
              "          const element = document.querySelector('#df-18637662-a037-4316-98ea-da660dfd6111');\n",
              "          const dataTable =\n",
              "            await google.colab.kernel.invokeFunction('convertToInteractive',\n",
              "                                                     [key], {});\n",
              "          if (!dataTable) return;\n",
              "\n",
              "          const docLinkHtml = 'Like what you see? Visit the ' +\n",
              "            '<a target=\"_blank\" href=https://colab.research.google.com/notebooks/data_table.ipynb>data table notebook</a>'\n",
              "            + ' to learn more about interactive tables.';\n",
              "          element.innerHTML = '';\n",
              "          dataTable['output_type'] = 'display_data';\n",
              "          await google.colab.output.renderOutput(dataTable, element);\n",
              "          const docLink = document.createElement('div');\n",
              "          docLink.innerHTML = docLinkHtml;\n",
              "          element.appendChild(docLink);\n",
              "        }\n",
              "      </script>\n",
              "    </div>\n",
              "  </div>\n",
              "  "
            ],
            "text/plain": [
              "      dayWeek  value  visitors\n",
              "3      Monday   True     11975\n",
              "11    Tuesday   True     13515\n",
              "13  Wednesday   True     15696\n",
              "9    Thursday   True     13822\n",
              "1      Friday   True      9189\n",
              "5    Saturday   True     11117\n",
              "7      Sunday   True      9930"
            ]
          },
          "metadata": {},
          "execution_count": 11
        }
      ]
    },
    {
      "cell_type": "markdown",
      "source": [
        "In the next graph we cna see the traffic is higher during the week than in the weekend."
      ],
      "metadata": {
        "id": "4JbW9gzKvddt"
      }
    },
    {
      "cell_type": "code",
      "source": [
        "timesDay.plot.bar(x='dayWeek', y='visitors', rot=30, figsize=(10,5))"
      ],
      "metadata": {
        "colab": {
          "base_uri": "https://localhost:8080/",
          "height": 378
        },
        "id": "-8SHSGLf8ax2",
        "outputId": "c5ecadb2-fba1-4cc9-c8e7-3badc52fe558"
      },
      "execution_count": 12,
      "outputs": [
        {
          "output_type": "execute_result",
          "data": {
            "text/plain": [
              "<matplotlib.axes._subplots.AxesSubplot at 0x7fd10a8bdfd0>"
            ]
          },
          "metadata": {},
          "execution_count": 12
        },
        {
          "output_type": "display_data",
          "data": {
            "image/png": "[encoded data removed]",
            "text/plain": [
              "<Figure size 720x360 with 1 Axes>"
            ]
          },
          "metadata": {
            "needs_background": "light"
          }
        }
      ]
    },
    {
      "cell_type": "markdown",
      "source": [
        "And if we compare this next graph (true visitors) vs the next second graph (false visitors) in proportion the false visitors decrease in the weekends."
      ],
      "metadata": {
        "id": "4cz9G-3AvNzd"
      }
    },
    {
      "cell_type": "code",
      "source": [
        "vTimesDayTrue.plot.bar(x='dayWeek', y='visitors', rot=30, figsize=(10,5))"
      ],
      "metadata": {
        "colab": {
          "base_uri": "https://localhost:8080/",
          "height": 378
        },
        "id": "To9mjWtuBgDN",
        "outputId": "1e16027b-d18f-47a1-8c92-502c0096f030"
      },
      "execution_count": 13,
      "outputs": [
        {
          "output_type": "execute_result",
          "data": {
            "text/plain": [
              "<matplotlib.axes._subplots.AxesSubplot at 0x7fd10a8405d0>"
            ]
          },
          "metadata": {},
          "execution_count": 13
        },
        {
          "output_type": "display_data",
          "data": {
            "image/png": "[encoded data removed]",
            "text/plain": [
              "<Figure size 720x360 with 1 Axes>"
            ]
          },
          "metadata": {
            "needs_background": "light"
          }
        }
      ]
    },
    {
      "cell_type": "code",
      "source": [
        "vTimesDayFalse.plot.bar(x='dayWeek', y='visitors', rot=30, figsize=(10,5))"
      ],
      "metadata": {
        "colab": {
          "base_uri": "https://localhost:8080/",
          "height": 378
        },
        "id": "mxITBx9TBltX",
        "outputId": "23baa763-8105-4e3a-a2a7-473cdfbc3659"
      },
      "execution_count": 14,
      "outputs": [
        {
          "output_type": "execute_result",
          "data": {
            "text/plain": [
              "<matplotlib.axes._subplots.AxesSubplot at 0x7fd10a7d4d90>"
            ]
          },
          "metadata": {},
          "execution_count": 14
        },
        {
          "output_type": "display_data",
          "data": {
            "image/png": "[encoded data removed]",
            "text/plain": [
              "<Figure size 720x360 with 1 Axes>"
            ]
          },
          "metadata": {
            "needs_background": "light"
          }
        }
      ]
    },
    {
      "cell_type": "markdown",
      "source": [
        "## ML Model"
      ],
      "metadata": {
        "id": "z2aJYX57lc4_"
      }
    },
    {
      "cell_type": "markdown",
      "source": [
        "For the ML model I decided first to try with a single tree, it is an algorithm that fits pretty well to this classification problem. If I get good results, I am going to train a random forest to be able to get even better results.\n",
        "\n",
        "I would also like to mention that this section is divided into different parts:\n",
        "\n",
        "1.   Functions definitions: functions that are going to be used to do some performance graphs and analysis.\n",
        "2.   Model Training: here it is included the algorithm training and where I measure the performance of the algorithm\n",
        "\n",
        "3.   Predictions: finally creating the new tags with the given data set and loading the data into a csv\n",
        "\n"
      ],
      "metadata": {
        "id": "BwVvppZUv1CS"
      }
    },
    {
      "cell_type": "markdown",
      "source": [
        "### Functions definitions"
      ],
      "metadata": {
        "id": "6eDsyZXzQdyn"
      }
    },
    {
      "cell_type": "code",
      "source": [
        "from sklearn.model_selection import cross_val_score\n",
        "def validate(model, X_train, y_train, k=10):\n",
        "    result = 'K-fold cross validation:\\n'\n",
        "    scores = cross_val_score(estimator=model,\n",
        "                             X=X_train,\n",
        "                             y=y_train,\n",
        "                             cv=k,\n",
        "                             n_jobs=1)\n",
        "    for i, score in enumerate(scores):\n",
        "        result += \"Iteration %d:\\t%.3f\\n\" % (i, score)\n",
        "    result += 'CV accuracy:\\t%.3f +/- %.3f' % (np.mean(scores), np.std(scores))\n",
        "    return result"
      ],
      "metadata": {
        "id": "iO9dHZefBphE"
      },
      "execution_count": 15,
      "outputs": []
    },
    {
      "cell_type": "code",
      "source": [
        "import matplotlib.pyplot as plt\n",
        "from sklearn.model_selection import learning_curve\n",
        "\n",
        "def learningCurve(model, X_train, y_train, k=10):\n",
        "    train_sizes, train_scores, test_scores =\\\n",
        "                    learning_curve(estimator=model,\n",
        "                                   X=X_train,\n",
        "                                   y=y_train,\n",
        "                                   train_sizes=np.linspace(0.1, 1.0, 10),\n",
        "                                   cv=k,\n",
        "                                   n_jobs=1)\n",
        "\n",
        "    train_mean = np.mean(train_scores, axis=1)\n",
        "    train_std = np.std(train_scores, axis=1)\n",
        "    test_mean = np.mean(test_scores, axis=1)\n",
        "    test_std = np.std(test_scores, axis=1)\n",
        "    \n",
        "    plt.rcParams[\"figure.figsize\"] = [6,6]\n",
        "    fsize=14\n",
        "    plt.xticks(fontsize=fsize)\n",
        "    plt.yticks(fontsize=fsize)\n",
        "    plt.plot(train_sizes, train_mean,\n",
        "             color='blue', marker='o',\n",
        "             markersize=5, label='training accuracy')\n",
        "    plt.fill_between(train_sizes,\n",
        "                     train_mean + train_std,\n",
        "                     train_mean - train_std,\n",
        "                     alpha=0.15, color='blue')\n",
        "\n",
        "    plt.plot(train_sizes, test_mean,\n",
        "             color='green', linestyle='--',\n",
        "             marker='s', markersize=5,\n",
        "             label='validation accuracy')\n",
        "\n",
        "    plt.fill_between(train_sizes,\n",
        "                     test_mean + test_std,\n",
        "                     test_mean - test_std,\n",
        "                     alpha=0.15, color='green')\n",
        "\n",
        "    plt.grid()\n",
        "    plt.xlabel('Number of training samples', fontsize=fsize)\n",
        "    plt.ylabel('Accuracy', fontsize=fsize)\n",
        "    plt.legend(loc='lower right')\n",
        "    plt.ylim([0.4, 1.03])\n",
        "    plt.tight_layout()\n",
        "    plt.show()"
      ],
      "metadata": {
        "id": "KYkmkZVUCRi7"
      },
      "execution_count": 16,
      "outputs": []
    },
    {
      "cell_type": "code",
      "source": [
        "from sklearn.model_selection import validation_curve\n",
        "\n",
        "def validationCurve(model, X_train, y_train,p_name, p_range, k=10, scale=False):\n",
        "    train_scores, test_scores = validation_curve(\n",
        "                    estimator=model, \n",
        "                    X=X_train, \n",
        "                    y=y_train, \n",
        "                    param_name=p_name,\n",
        "                    param_range=p_range,\n",
        "                    cv=k)\n",
        "\n",
        "    train_mean = np.mean(train_scores, axis=1)\n",
        "    train_std = np.std(train_scores, axis=1)\n",
        "    test_mean = np.mean(test_scores, axis=1)\n",
        "    test_std = np.std(test_scores, axis=1)\n",
        "    plt.rcParams[\"figure.figsize\"] = [6,6]\n",
        "    fsize=14\n",
        "    plt.xticks(fontsize=fsize)\n",
        "    plt.yticks(fontsize=fsize)\n",
        "    plt.plot(p_range, train_mean, \n",
        "             color='blue', marker='o', \n",
        "             markersize=5, label='training accuracy')\n",
        "\n",
        "    plt.fill_between(p_range, train_mean + train_std,\n",
        "                     train_mean - train_std, alpha=0.15,\n",
        "                     color='blue')\n",
        "\n",
        "    plt.plot(p_range, test_mean, \n",
        "             color='green', linestyle='--', \n",
        "             marker='s', markersize=5, \n",
        "             label='validation accuracy')\n",
        "\n",
        "    plt.fill_between(p_range, \n",
        "                     test_mean + test_std,\n",
        "                     test_mean - test_std, \n",
        "                     alpha=0.15, color='green')\n",
        "\n",
        "    plt.grid()\n",
        "    if scale:\n",
        "        plt.xscale('log')\n",
        "    plt.legend(loc='lower right')\n",
        "    plt.xlabel('Parameter %s' % p_name, fontsize=fsize)\n",
        "    plt.ylabel('Accuracy', fontsize=fsize)\n",
        "    plt.ylim([0.7, 1.0])\n",
        "    plt.tight_layout()\n",
        "    plt.show()"
      ],
      "metadata": {
        "id": "DIA6RUkvCSQk"
      },
      "execution_count": 17,
      "outputs": []
    },
    {
      "cell_type": "code",
      "source": [
        "from sklearn.metrics import roc_curve, roc_auc_score\n",
        "\n",
        "def rocCurve(model, X_test, y_test):\n",
        "    y_scores = model.predict_proba(X_test)[:,1]\n",
        "    fpr, tpr, thresholds = roc_curve(y_test, y_scores)\n",
        "    roc_auc = roc_auc_score(y_test, y_scores)\n",
        "    plt.figure()\n",
        "    lw = 2\n",
        "    plt.plot(fpr, tpr, color='darkorange',\n",
        "             lw=lw, label='ROC curve (area = %0.2f)' % roc_auc)\n",
        "    plt.plot([0, 1], [0, 1], color='navy', lw=lw, linestyle='--')\n",
        "    plt.xlim([0.0, 1.0])\n",
        "    plt.ylim([0.0, 1.05])\n",
        "    plt.rcParams[\"figure.figsize\"] = [8,8]\n",
        "    plt.xlabel('False Positive Rate')\n",
        "    plt.ylabel('True Positive Rate')\n",
        "    plt.title('Receiver operating characteristic example')\n",
        "    plt.legend(loc=\"lower right\")\n",
        "    plt.show()"
      ],
      "metadata": {
        "id": "s4Qh0QovCUea"
      },
      "execution_count": 18,
      "outputs": []
    },
    {
      "cell_type": "code",
      "source": [
        "from sklearn.metrics import confusion_matrix\n",
        "\n",
        "def confusionMatrix(model, X_train, y_train, X_test, y_test): \n",
        "    model.fit(X_train, y_train)\n",
        "    y_pred = model.predict(X_test)\n",
        "    confmat = confusion_matrix(y_true=y_test, y_pred=y_pred)\n",
        "    print(confmat)\n",
        "    fig, ax = plt.subplots(figsize=(6, 6))\n",
        "    ax.matshow(confmat, cmap=plt.cm.Blues, alpha=0.8)\n",
        "    for i in range(confmat.shape[0]):\n",
        "        for j in range(confmat.shape[1]):\n",
        "            ax.text(x=j, y=i, s=confmat[i, j], va='center', ha='center')\n",
        "\n",
        "    plt.xlabel('Predicted label')\n",
        "    plt.ylabel('True label')\n",
        "    plt.tight_layout()\n",
        "    plt.show()"
      ],
      "metadata": {
        "id": "o6w8FjGLCYqJ"
      },
      "execution_count": 19,
      "outputs": []
    },
    {
      "cell_type": "markdown",
      "source": [
        "### Model Training"
      ],
      "metadata": {
        "id": "NlW7SJAsQkEe"
      }
    },
    {
      "cell_type": "markdown",
      "source": [
        "First the data sets are divided in training and testing, where testing is going to be 20% of the total data set. Also the visitor value is set as the predicted value."
      ],
      "metadata": {
        "id": "J6zoYiPSyTeO"
      }
    },
    {
      "cell_type": "code",
      "source": [
        "features = ['branch_office','month_tz', 'day_tz',\t'hour_tz',\t'tiempodeses']\n",
        "\n",
        "X_train, X_test, y_train, y_test = train_test_split(df[features],\n",
        "                                                    df[\"visitor\"],\n",
        "                                                    test_size = 0.2,\n",
        "                                                    stratify = df['visitor'])"
      ],
      "metadata": {
        "id": "FV7zWZbNosTf"
      },
      "execution_count": 20,
      "outputs": []
    },
    {
      "cell_type": "markdown",
      "source": [
        "#### Decision Tree"
      ],
      "metadata": {
        "id": "8En_rFe2Q_6b"
      }
    },
    {
      "cell_type": "markdown",
      "source": [
        "Then the decision tree is trained and validated to see it's performance."
      ],
      "metadata": {
        "id": "IXceNaGryuwY"
      }
    },
    {
      "cell_type": "code",
      "source": [
        "from sklearn import tree\n",
        "dt = tree.DecisionTreeClassifier()\n",
        "dt = dt.fit(X_train, y_train)\n",
        "print(\"Decision Tree score (Train): {0:.2}\".format(dt.score(X_train, y_train)))\n",
        "print(\"Decision Tree score (Test): {0:.2}\".format(dt.score(X_test, y_test)))\n",
        "print(validate(dt, X_train, y_train))"
      ],
      "metadata": {
        "colab": {
          "base_uri": "https://localhost:8080/"
        },
        "id": "QSU3_SC0D9OT",
        "outputId": "71d0251b-7341-4d5d-fbd0-75a80ebf2fa1"
      },
      "execution_count": 21,
      "outputs": [
        {
          "output_type": "stream",
          "name": "stdout",
          "text": [
            "Decision Tree score (Train): 1.0\n",
            "Decision Tree score (Test): 0.95\n",
            "K-fold cross validation:\n",
            "Iteration 0:\t0.952\n",
            "Iteration 1:\t0.955\n",
            "Iteration 2:\t0.953\n",
            "Iteration 3:\t0.952\n",
            "Iteration 4:\t0.953\n",
            "Iteration 5:\t0.951\n",
            "Iteration 6:\t0.952\n",
            "Iteration 7:\t0.953\n",
            "Iteration 8:\t0.952\n",
            "Iteration 9:\t0.952\n",
            "CV accuracy:\t0.952 +/- 0.001\n"
          ]
        }
      ]
    },
    {
      "cell_type": "markdown",
      "source": [
        "As expected, it has a good accuracy, 95% so the plan goes on, I am going to try the random forest algorithm."
      ],
      "metadata": {
        "id": "NexJlXNny2D3"
      }
    },
    {
      "cell_type": "markdown",
      "source": [
        "#### Random Forest"
      ],
      "metadata": {
        "id": "usVOV-7yRCw-"
      }
    },
    {
      "cell_type": "markdown",
      "source": [
        "##### Algorithm\n"
      ],
      "metadata": {
        "id": "mGKUduQAqNmN"
      }
    },
    {
      "cell_type": "code",
      "source": [
        "from sklearn.ensemble import RandomForestClassifier\n",
        "\n",
        "forest = RandomForestClassifier(n_estimators=3,\n",
        "                                criterion='gini',\n",
        "                                max_depth=3,\n",
        "                                min_samples_split=10,\n",
        "                                min_samples_leaf=5,\n",
        "                                random_state=0)\n",
        "X_train.head()\n",
        "forest.fit(X_train, y_train)\n",
        "print(\"Random Forest score (Train): {0:.2}\".format(forest.score(X_train, y_train)))\n",
        "print(\"Random Forest score (Test): {0:.2}\".format(forest.score(X_test, y_test)))\n",
        "print(validate(forest, X_train, y_train))"
      ],
      "metadata": {
        "colab": {
          "base_uri": "https://localhost:8080/"
        },
        "id": "7CeHERt0DS4g",
        "outputId": "8a1e7049-765d-4328-d3c8-65026121ba9a"
      },
      "execution_count": 30,
      "outputs": [
        {
          "output_type": "stream",
          "name": "stdout",
          "text": [
            "Random Forest score (Train): 0.96\n",
            "Random Forest score (Test): 0.96\n",
            "K-fold cross validation:\n",
            "Iteration 0:\t0.962\n",
            "Iteration 1:\t0.963\n",
            "Iteration 2:\t0.962\n",
            "Iteration 3:\t0.962\n",
            "Iteration 4:\t0.963\n",
            "Iteration 5:\t0.961\n",
            "Iteration 6:\t0.965\n",
            "Iteration 7:\t0.966\n",
            "Iteration 8:\t0.932\n",
            "Iteration 9:\t0.963\n",
            "CV accuracy:\t0.960 +/- 0.009\n"
          ]
        }
      ]
    },
    {
      "cell_type": "markdown",
      "source": [
        "As expected, with a random forest that it is not deep, we were able to get better results. "
      ],
      "metadata": {
        "id": "fqGKakgzzIXN"
      }
    },
    {
      "cell_type": "markdown",
      "source": [
        "##### Metrics"
      ],
      "metadata": {
        "id": "dh02eQbwqTQV"
      }
    },
    {
      "cell_type": "markdown",
      "source": [
        "First the confusion matrix is calculated and from here the different KPI's are measured."
      ],
      "metadata": {
        "id": "FSgJ9HcDzeCK"
      }
    },
    {
      "cell_type": "code",
      "source": [
        "confusionMatrix(forest, X_train, y_train, X_test, y_test)"
      ],
      "metadata": {
        "colab": {
          "base_uri": "https://localhost:8080/",
          "height": 475
        },
        "id": "9NIAVeSeDh4N",
        "outputId": "77824029-ecf1-495a-e0c1-764fb7566ac0"
      },
      "execution_count": 33,
      "outputs": [
        {
          "output_type": "stream",
          "name": "stdout",
          "text": [
            "[[80697  1459]\n",
            " [ 3208 39414]]\n"
          ]
        },
        {
          "output_type": "display_data",
          "data": {
            "image/png": "[encoded data removed]",
            "text/plain": [
              "<Figure size 432x432 with 1 Axes>"
            ]
          },
          "metadata": {
            "needs_background": "light"
          }
        }
      ]
    },
    {
      "cell_type": "markdown",
      "source": [
        "####Accuracy\n",
        "\n",
        "The first is accuracy, this let us anwser how often the algorithm is correct. \n",
        "\n",
        "Accuracy can be determined by the number of correctly classified items divided by the total items\n",
        "\n",
        "Accuracy = (39414 + 80697) / (80697 + 1459 + 3208 + 39414) = 96.25%"
      ],
      "metadata": {
        "id": "joqThUBCRi-i"
      }
    },
    {
      "cell_type": "code",
      "source": [
        "learningCurve(forest, X_train, y_train)"
      ],
      "metadata": {
        "colab": {
          "base_uri": "https://localhost:8080/",
          "height": 441
        },
        "id": "TlGTAeOoDWFW",
        "outputId": "36832da9-e205-46e7-a257-6d0cf001e7ac"
      },
      "execution_count": 31,
      "outputs": [
        {
          "output_type": "display_data",
          "data": {
            "image/png": "[encoded data removed]",
            "text/plain": [
              "<Figure size 432x432 with 1 Axes>"
            ]
          },
          "metadata": {
            "needs_background": "light"
          }
        }
      ]
    },
    {
      "cell_type": "markdown",
      "source": [
        "####Precision\n",
        "\n",
        "The precision helps us measure how often the algorithm is correct when it predicts a positive result and it can be determined by true positives divided by true positives adding the true negatives.\n",
        "\n",
        "Precision = (39414) / (39414 + 1459) = 96.43%"
      ],
      "metadata": {
        "id": "3Q9UCsjQnamm"
      }
    },
    {
      "cell_type": "markdown",
      "source": [
        "####Recall\n",
        "\n",
        "The recall helps us measure when it is actuallly the positive result, how often the algorithm it predict correctly. This is calculated dividing true positive by the sum of true positives plus false negatives. \n",
        "\n",
        "Recall = (39414) / (39414 + 3208) = 92.47%"
      ],
      "metadata": {
        "id": "rdnd-aSBoJy5"
      }
    },
    {
      "cell_type": "code",
      "source": [
        "rocCurve(forest, X_test, y_test)"
      ],
      "metadata": {
        "colab": {
          "base_uri": "https://localhost:8080/",
          "height": 404
        },
        "id": "GLiLGCjlDcw6",
        "outputId": "ec18af71-8910-44df-9ca4-b9ac10cf95c3"
      },
      "execution_count": 32,
      "outputs": [
        {
          "output_type": "display_data",
          "data": {
            "image/png": "[encoded data removed]",
            "text/plain": [
              "<Figure size 432x432 with 1 Axes>"
            ]
          },
          "metadata": {
            "needs_background": "light"
          }
        }
      ]
    },
    {
      "cell_type": "markdown",
      "source": [
        "As we can see, we got pretty good results. For sure we can improve this algorithm and there are alternatives for this. We could try other algorithms, and also trying with different variants, for example, my hypothesis, from watching the recall, is that the algorithm is tagging all the sessions that has no duration (duration equals to 0) as false visitors and that's why we get that high number for false negatives so we could try to train the algorithm without that specific variant. But in resume, 96% accuracy but an algorithm is a great result, we would need to define what is important and then decide on which of this KPI's to focus on and start to bring different ideas to improve that specific metric."
      ],
      "metadata": {
        "id": "DTmjwVSUztqY"
      }
    },
    {
      "cell_type": "markdown",
      "source": [
        "### Predictions"
      ],
      "metadata": {
        "id": "ncli--8mVGOP"
      }
    },
    {
      "cell_type": "markdown",
      "source": [
        "Finally the test data set is downloaded. The Random Forest algorithm is used to predict the values and the results are ready :)"
      ],
      "metadata": {
        "id": "X7is-QB-0lYh"
      }
    },
    {
      "cell_type": "code",
      "source": [
        "url = 'https://raw.githubusercontent.com/SantiagoUtrillaWM/DataAnalysis2/main/v.csv'\n",
        "X_real = pd.read_csv(url)\n",
        "df_X = pd.read_csv(url)\n",
        "X_real = X_real[features]"
      ],
      "metadata": {
        "id": "Z5FROFWcbaGJ"
      },
      "execution_count": 49,
      "outputs": []
    },
    {
      "cell_type": "code",
      "source": [
        "forest = RandomForestClassifier(n_estimators=3,\n",
        "                                criterion='gini',\n",
        "                                max_depth=3,\n",
        "                                min_samples_split=10,\n",
        "                                min_samples_leaf=5,\n",
        "                                random_state=0)\n",
        "X_train.head()\n",
        "forest.fit(X_train, y_train)\n",
        "y_predict = pd.DataFrame(forest.predict(X_real))\n",
        "y_predict.columns = ['visitors']"
      ],
      "metadata": {
        "id": "0skK23zhWXN1"
      },
      "execution_count": 50,
      "outputs": []
    },
    {
      "cell_type": "code",
      "source": [
        "predictions = df_X.join(y_predict)\n",
        "predictions.head()"
      ],
      "metadata": {
        "colab": {
          "base_uri": "https://localhost:8080/",
          "height": 206
        },
        "id": "KtpN8BRNdd1O",
        "outputId": "3908248b-eab8-4c21-9f5c-232b55768e07"
      },
      "execution_count": 51,
      "outputs": [
        {
          "output_type": "execute_result",
          "data": {
            "text/html": [
              "\n",
              "  <div id=\"df-2946ff5b-ff56-42af-8fdb-dbee91feb639\">\n",
              "    <div class=\"colab-df-container\">\n",
              "      <div>\n",
              "<style scoped>\n",
              "    .dataframe tbody tr th:only-of-type {\n",
              "        vertical-align: middle;\n",
              "    }\n",
              "\n",
              "    .dataframe tbody tr th {\n",
              "        vertical-align: top;\n",
              "    }\n",
              "\n",
              "    .dataframe thead th {\n",
              "        text-align: right;\n",
              "    }\n",
              "</style>\n",
              "<table border=\"1\" class=\"dataframe\">\n",
              "  <thead>\n",
              "    <tr style=\"text-align: right;\">\n",
              "      <th></th>\n",
              "      <th>Unnamed: 0</th>\n",
              "      <th>device_mac</th>\n",
              "      <th>branch_office</th>\n",
              "      <th>month_tz</th>\n",
              "      <th>day_tz</th>\n",
              "      <th>day_of_week_tz</th>\n",
              "      <th>hour_tz</th>\n",
              "      <th>tiempodeses</th>\n",
              "      <th>visitors</th>\n",
              "    </tr>\n",
              "  </thead>\n",
              "  <tbody>\n",
              "    <tr>\n",
              "      <th>0</th>\n",
              "      <td>1</td>\n",
              "      <td>a8:81:95:56:31:3c</td>\n",
              "      <td>1</td>\n",
              "      <td>11</td>\n",
              "      <td>17</td>\n",
              "      <td>Thursday</td>\n",
              "      <td>4</td>\n",
              "      <td>0</td>\n",
              "      <td>False</td>\n",
              "    </tr>\n",
              "    <tr>\n",
              "      <th>1</th>\n",
              "      <td>2</td>\n",
              "      <td>44:6e:e5:1b:68:81</td>\n",
              "      <td>3</td>\n",
              "      <td>11</td>\n",
              "      <td>3</td>\n",
              "      <td>Thursday</td>\n",
              "      <td>22</td>\n",
              "      <td>477</td>\n",
              "      <td>True</td>\n",
              "    </tr>\n",
              "    <tr>\n",
              "      <th>2</th>\n",
              "      <td>3</td>\n",
              "      <td>0c:b3:19:10:78:17</td>\n",
              "      <td>3</td>\n",
              "      <td>11</td>\n",
              "      <td>12</td>\n",
              "      <td>Saturday</td>\n",
              "      <td>10</td>\n",
              "      <td>0</td>\n",
              "      <td>False</td>\n",
              "    </tr>\n",
              "    <tr>\n",
              "      <th>3</th>\n",
              "      <td>4</td>\n",
              "      <td>44:74:6c:0a:20:23</td>\n",
              "      <td>3</td>\n",
              "      <td>11</td>\n",
              "      <td>27</td>\n",
              "      <td>Sunday</td>\n",
              "      <td>21</td>\n",
              "      <td>0</td>\n",
              "      <td>False</td>\n",
              "    </tr>\n",
              "    <tr>\n",
              "      <th>4</th>\n",
              "      <td>5</td>\n",
              "      <td>ac:5f:3e:c8:dc:35</td>\n",
              "      <td>1</td>\n",
              "      <td>11</td>\n",
              "      <td>27</td>\n",
              "      <td>Sunday</td>\n",
              "      <td>16</td>\n",
              "      <td>0</td>\n",
              "      <td>False</td>\n",
              "    </tr>\n",
              "  </tbody>\n",
              "</table>\n",
              "</div>\n",
              "      <button class=\"colab-df-convert\" onclick=\"convertToInteractive('df-2946ff5b-ff56-42af-8fdb-dbee91feb639')\"\n",
              "              title=\"Convert this dataframe to an interactive table.\"\n",
              "              style=\"display:none;\">\n",
              "        \n",
              "  <svg xmlns=\"http://www.w3.org/2000/svg\" height=\"24px\"viewBox=\"0 0 24 24\"\n",
              "       width=\"24px\">\n",
              "    <path d=\"M0 0h24v24H0V0z\" fill=\"none\"/>\n",
              "    <path d=\"M18.56 5.44l.94 2.06.94-2.06 2.06-.94-2.06-.94-.94-2.06-.94 2.06-2.06.94zm-11 1L8.5 8.5l.94-2.06 2.06-.94-2.06-.94L8.5 2.5l-.94 2.06-2.06.94zm10 10l.94 2.06.94-2.06 2.06-.94-2.06-.94-.94-2.06-.94 2.06-2.06.94z\"/><path d=\"M17.41 7.96l-1.37-1.37c-.4-.4-.92-.59-1.43-.59-.52 0-1.04.2-1.43.59L10.3 9.45l-7.72 7.72c-.78.78-.78 2.05 0 2.83L4 21.41c.39.39.9.59 1.41.59.51 0 1.02-.2 1.41-.59l7.78-7.78 2.81-2.81c.8-.78.8-2.07 0-2.86zM5.41 20L4 18.59l7.72-7.72 1.47 1.35L5.41 20z\"/>\n",
              "  </svg>\n",
              "      </button>\n",
              "      \n",
              "  <style>\n",
              "    .colab-df-container {\n",
              "      display:flex;\n",
              "      flex-wrap:wrap;\n",
              "      gap: 12px;\n",
              "    }\n",
              "\n",
              "    .colab-df-convert {\n",
              "      background-color: #E8F0FE;\n",
              "      border: none;\n",
              "      border-radius: 50%;\n",
              "      cursor: pointer;\n",
              "      display: none;\n",
              "      fill: #1967D2;\n",
              "      height: 32px;\n",
              "      padding: 0 0 0 0;\n",
              "      width: 32px;\n",
              "    }\n",
              "\n",
              "    .colab-df-convert:hover {\n",
              "      background-color: #E2EBFA;\n",
              "      box-shadow: 0px 1px 2px rgba(60, 64, 67, 0.3), 0px 1px 3px 1px rgba(60, 64, 67, 0.15);\n",
              "      fill: #174EA6;\n",
              "    }\n",
              "\n",
              "    [theme=dark] .colab-df-convert {\n",
              "      background-color: #3B4455;\n",
              "      fill: #D2E3FC;\n",
              "    }\n",
              "\n",
              "    [theme=dark] .colab-df-convert:hover {\n",
              "      background-color: #434B5C;\n",
              "      box-shadow: 0px 1px 3px 1px rgba(0, 0, 0, 0.15);\n",
              "      filter: drop-shadow(0px 1px 2px rgba(0, 0, 0, 0.3));\n",
              "      fill: #FFFFFF;\n",
              "    }\n",
              "  </style>\n",
              "\n",
              "      <script>\n",
              "        const buttonEl =\n",
              "          document.querySelector('#df-2946ff5b-ff56-42af-8fdb-dbee91feb639 button.colab-df-convert');\n",
              "        buttonEl.style.display =\n",
              "          google.colab.kernel.accessAllowed ? 'block' : 'none';\n",
              "\n",
              "        async function convertToInteractive(key) {\n",
              "          const element = document.querySelector('#df-2946ff5b-ff56-42af-8fdb-dbee91feb639');\n",
              "          const dataTable =\n",
              "            await google.colab.kernel.invokeFunction('convertToInteractive',\n",
              "                                                     [key], {});\n",
              "          if (!dataTable) return;\n",
              "\n",
              "          const docLinkHtml = 'Like what you see? Visit the ' +\n",
              "            '<a target=\"_blank\" href=https://colab.research.google.com/notebooks/data_table.ipynb>data table notebook</a>'\n",
              "            + ' to learn more about interactive tables.';\n",
              "          element.innerHTML = '';\n",
              "          dataTable['output_type'] = 'display_data';\n",
              "          await google.colab.output.renderOutput(dataTable, element);\n",
              "          const docLink = document.createElement('div');\n",
              "          docLink.innerHTML = docLinkHtml;\n",
              "          element.appendChild(docLink);\n",
              "        }\n",
              "      </script>\n",
              "    </div>\n",
              "  </div>\n",
              "  "
            ],
            "text/plain": [
              "   Unnamed: 0         device_mac  branch_office  ...  hour_tz  tiempodeses visitors\n",
              "0           1  a8:81:95:56:31:3c              1  ...        4            0    False\n",
              "1           2  44:6e:e5:1b:68:81              3  ...       22          477     True\n",
              "2           3  0c:b3:19:10:78:17              3  ...       10            0    False\n",
              "3           4  44:74:6c:0a:20:23              3  ...       21            0    False\n",
              "4           5  ac:5f:3e:c8:dc:35              1  ...       16            0    False\n",
              "\n",
              "[5 rows x 9 columns]"
            ]
          },
          "metadata": {},
          "execution_count": 51
        }
      ]
    },
    {
      "cell_type": "code",
      "source": [
        "predictions.to_csv('e_predictions.csv')  "
      ],
      "metadata": {
        "id": "BVrEbinWqiTs"
      },
      "execution_count": 52,
      "outputs": []
    }
  ]
}